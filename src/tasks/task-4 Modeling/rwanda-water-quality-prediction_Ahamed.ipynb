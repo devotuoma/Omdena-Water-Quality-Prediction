{
  "nbformat": 4,
  "nbformat_minor": 0,
  "metadata": {
    "colab": {
      "provenance": [],
      "gpuType": "T4"
    },
    "kernelspec": {
      "name": "python3",
      "display_name": "Python 3"
    },
    "language_info": {
      "name": "python"
    }
  },
  "cells": [
    {
      "cell_type": "markdown",
      "source": [
        "\n",
        "# Developing an Automated Water Quality Prediction System using Machine Learning\n",
        "\n",
        "**Goal of this project** :The project goals for the Omdena Rwanda Chapter's water quality prediction project are:\n",
        "\n",
        "1. Enhance accessibility to clean water: The project aims to contribute to the broader objective of improving access to clean water. By predicting water quality, the model will assist in ensuring the availability of safe and clean water for drinking, agriculture, and other essential uses.\n",
        "\n",
        "2. Optimize prediction efficiency:The project strives to create an efficient model that can quickly generate water quality predictions. By leveraging machine learning algorithms and techniques, the model will expedite decision-making processes, enabling prompt actions to address water quality issues.\n",
        "\n",
        "3. Safeguard public health and promote agricultural productivity : Accurate water quality prediction is vital for protecting public health and maximizing agricultural productivity. By delivering timely and precise information on water quality, the project will help prevent potential health risks and support optimal agricultural practices.\n",
        "\n",
        "The Omdena Rwanda Chapter's project focuses on developing an accurate, efficient, and cost-effective machine learning model to predict water quality. By doing so, the project aims to contribute to improved accessibility to clean water, enhance decision-making processes, reduce costs, and promote public health and agricultural productivity."
      ],
      "metadata": {
        "id": "eFRMXBUuMqeh"
      }
    },
    {
      "cell_type": "code",
      "execution_count": 258,
      "metadata": {
        "id": "XmzPQGDx1rte"
      },
      "outputs": [],
      "source": [
        "import pandas as pd\n",
        "import numpy as np\n",
        "import matplotlib.pyplot as plt\n",
        "import seaborn as sns\n",
        "\n",
        "%matplotlib inline\n",
        "import plotly.express as px\n",
        "import warnings\n",
        "warnings.filterwarnings('ignore')"
      ]
    },
    {
      "cell_type": "code",
      "source": [
        "from google.colab import drive\n",
        "drive.mount('/content/drive')\n"
      ],
      "metadata": {
        "colab": {
          "base_uri": "https://localhost:8080/"
        },
        "id": "dClL0B9W2QPu",
        "outputId": "a04910c2-0a9a-4c49-8241-c048d557ab9f"
      },
      "execution_count": 259,
      "outputs": [
        {
          "output_type": "stream",
          "name": "stdout",
          "text": [
            "Drive already mounted at /content/drive; to attempt to forcibly remount, call drive.mount(\"/content/drive\", force_remount=True).\n"
          ]
        }
      ]
    },
    {
      "cell_type": "code",
      "source": [
        "# Read the CSV file using pandas\n",
        "df = pd.read_csv(r'/content/drive/MyDrive/Colab Notebooks/Synthetic_Data_Water_Quality_v1.csv')\n",
        "df.head()"
      ],
      "metadata": {
        "id": "dwNgVsMv2M49",
        "colab": {
          "base_uri": "https://localhost:8080/",
          "height": 322
        },
        "outputId": "e2c4709b-ee40-456a-bfd5-df2c7351d138"
      },
      "execution_count": 257,
      "outputs": [
        {
          "output_type": "execute_result",
          "data": {
            "text/plain": [
              "   Colour (TCU)  Turbidity (NTU)   pH  Conductivity (uS/cm)  \\\n",
              "0          8.34             3.39  7.0                819.00   \n",
              "1         14.45             3.36  7.0               1371.10   \n",
              "2          3.87             4.23  7.0                202.75   \n",
              "3         14.57             1.75  7.0                696.16   \n",
              "4          9.01             2.20  7.0                129.24   \n",
              "\n",
              "   Total Dissolved Solids (mg/l)  Total Hardness (mg/l as CaCO3)  \\\n",
              "0                         787.15                          279.89   \n",
              "1                         779.66                          112.04   \n",
              "2                         485.10                          113.17   \n",
              "3                         409.71                          140.39   \n",
              "4                         343.55                            6.52   \n",
              "\n",
              "   Aluminium (mg/l)  Chloride (mg/l)  Total Iron (mg/l)  Sodium (mg/l)  \\\n",
              "0              0.09           129.30               0.22          13.13   \n",
              "1              0.20           163.73               0.13         127.48   \n",
              "2              0.15            66.68               0.29         142.97   \n",
              "3              0.06           102.42               0.15         194.07   \n",
              "4              0.07           140.47               0.28           3.77   \n",
              "\n",
              "   Sulphate (mg/l)  Zinc (mg/l)  Magnesium (mg/l)  Calcium (mg/l)  \\\n",
              "0            81.01         2.24             12.69          107.95   \n",
              "1           307.99         4.05             52.01          107.12   \n",
              "2            16.70         0.86             88.47          127.47   \n",
              "3           393.09         2.60             61.36           99.16   \n",
              "4           170.65         0.04             47.22          107.17   \n",
              "\n",
              "   Potassium (mg/l)  Nitrate (mg/l)  Phosphate (mg/l) Potability  \n",
              "0             17.50           22.23              0.41    potable  \n",
              "1             45.28           16.06              0.68    potable  \n",
              "2              4.90           19.81              0.91    potable  \n",
              "3             36.73           42.82              0.02    potable  \n",
              "4             44.79           14.35              2.08    potable  "
            ],
            "text/html": [
              "\n",
              "  <div id=\"df-aab92979-9d9c-447d-9b68-6f59db1283b0\">\n",
              "    <div class=\"colab-df-container\">\n",
              "      <div>\n",
              "<style scoped>\n",
              "    .dataframe tbody tr th:only-of-type {\n",
              "        vertical-align: middle;\n",
              "    }\n",
              "\n",
              "    .dataframe tbody tr th {\n",
              "        vertical-align: top;\n",
              "    }\n",
              "\n",
              "    .dataframe thead th {\n",
              "        text-align: right;\n",
              "    }\n",
              "</style>\n",
              "<table border=\"1\" class=\"dataframe\">\n",
              "  <thead>\n",
              "    <tr style=\"text-align: right;\">\n",
              "      <th></th>\n",
              "      <th>Colour (TCU)</th>\n",
              "      <th>Turbidity (NTU)</th>\n",
              "      <th>pH</th>\n",
              "      <th>Conductivity (uS/cm)</th>\n",
              "      <th>Total Dissolved Solids (mg/l)</th>\n",
              "      <th>Total Hardness (mg/l as CaCO3)</th>\n",
              "      <th>Aluminium (mg/l)</th>\n",
              "      <th>Chloride (mg/l)</th>\n",
              "      <th>Total Iron (mg/l)</th>\n",
              "      <th>Sodium (mg/l)</th>\n",
              "      <th>Sulphate (mg/l)</th>\n",
              "      <th>Zinc (mg/l)</th>\n",
              "      <th>Magnesium (mg/l)</th>\n",
              "      <th>Calcium (mg/l)</th>\n",
              "      <th>Potassium (mg/l)</th>\n",
              "      <th>Nitrate (mg/l)</th>\n",
              "      <th>Phosphate (mg/l)</th>\n",
              "      <th>Potability</th>\n",
              "    </tr>\n",
              "  </thead>\n",
              "  <tbody>\n",
              "    <tr>\n",
              "      <th>0</th>\n",
              "      <td>8.34</td>\n",
              "      <td>3.39</td>\n",
              "      <td>7.0</td>\n",
              "      <td>819.00</td>\n",
              "      <td>787.15</td>\n",
              "      <td>279.89</td>\n",
              "      <td>0.09</td>\n",
              "      <td>129.30</td>\n",
              "      <td>0.22</td>\n",
              "      <td>13.13</td>\n",
              "      <td>81.01</td>\n",
              "      <td>2.24</td>\n",
              "      <td>12.69</td>\n",
              "      <td>107.95</td>\n",
              "      <td>17.50</td>\n",
              "      <td>22.23</td>\n",
              "      <td>0.41</td>\n",
              "      <td>potable</td>\n",
              "    </tr>\n",
              "    <tr>\n",
              "      <th>1</th>\n",
              "      <td>14.45</td>\n",
              "      <td>3.36</td>\n",
              "      <td>7.0</td>\n",
              "      <td>1371.10</td>\n",
              "      <td>779.66</td>\n",
              "      <td>112.04</td>\n",
              "      <td>0.20</td>\n",
              "      <td>163.73</td>\n",
              "      <td>0.13</td>\n",
              "      <td>127.48</td>\n",
              "      <td>307.99</td>\n",
              "      <td>4.05</td>\n",
              "      <td>52.01</td>\n",
              "      <td>107.12</td>\n",
              "      <td>45.28</td>\n",
              "      <td>16.06</td>\n",
              "      <td>0.68</td>\n",
              "      <td>potable</td>\n",
              "    </tr>\n",
              "    <tr>\n",
              "      <th>2</th>\n",
              "      <td>3.87</td>\n",
              "      <td>4.23</td>\n",
              "      <td>7.0</td>\n",
              "      <td>202.75</td>\n",
              "      <td>485.10</td>\n",
              "      <td>113.17</td>\n",
              "      <td>0.15</td>\n",
              "      <td>66.68</td>\n",
              "      <td>0.29</td>\n",
              "      <td>142.97</td>\n",
              "      <td>16.70</td>\n",
              "      <td>0.86</td>\n",
              "      <td>88.47</td>\n",
              "      <td>127.47</td>\n",
              "      <td>4.90</td>\n",
              "      <td>19.81</td>\n",
              "      <td>0.91</td>\n",
              "      <td>potable</td>\n",
              "    </tr>\n",
              "    <tr>\n",
              "      <th>3</th>\n",
              "      <td>14.57</td>\n",
              "      <td>1.75</td>\n",
              "      <td>7.0</td>\n",
              "      <td>696.16</td>\n",
              "      <td>409.71</td>\n",
              "      <td>140.39</td>\n",
              "      <td>0.06</td>\n",
              "      <td>102.42</td>\n",
              "      <td>0.15</td>\n",
              "      <td>194.07</td>\n",
              "      <td>393.09</td>\n",
              "      <td>2.60</td>\n",
              "      <td>61.36</td>\n",
              "      <td>99.16</td>\n",
              "      <td>36.73</td>\n",
              "      <td>42.82</td>\n",
              "      <td>0.02</td>\n",
              "      <td>potable</td>\n",
              "    </tr>\n",
              "    <tr>\n",
              "      <th>4</th>\n",
              "      <td>9.01</td>\n",
              "      <td>2.20</td>\n",
              "      <td>7.0</td>\n",
              "      <td>129.24</td>\n",
              "      <td>343.55</td>\n",
              "      <td>6.52</td>\n",
              "      <td>0.07</td>\n",
              "      <td>140.47</td>\n",
              "      <td>0.28</td>\n",
              "      <td>3.77</td>\n",
              "      <td>170.65</td>\n",
              "      <td>0.04</td>\n",
              "      <td>47.22</td>\n",
              "      <td>107.17</td>\n",
              "      <td>44.79</td>\n",
              "      <td>14.35</td>\n",
              "      <td>2.08</td>\n",
              "      <td>potable</td>\n",
              "    </tr>\n",
              "  </tbody>\n",
              "</table>\n",
              "</div>\n",
              "      <button class=\"colab-df-convert\" onclick=\"convertToInteractive('df-aab92979-9d9c-447d-9b68-6f59db1283b0')\"\n",
              "              title=\"Convert this dataframe to an interactive table.\"\n",
              "              style=\"display:none;\">\n",
              "        \n",
              "  <svg xmlns=\"http://www.w3.org/2000/svg\" height=\"24px\"viewBox=\"0 0 24 24\"\n",
              "       width=\"24px\">\n",
              "    <path d=\"M0 0h24v24H0V0z\" fill=\"none\"/>\n",
              "    <path d=\"M18.56 5.44l.94 2.06.94-2.06 2.06-.94-2.06-.94-.94-2.06-.94 2.06-2.06.94zm-11 1L8.5 8.5l.94-2.06 2.06-.94-2.06-.94L8.5 2.5l-.94 2.06-2.06.94zm10 10l.94 2.06.94-2.06 2.06-.94-2.06-.94-.94-2.06-.94 2.06-2.06.94z\"/><path d=\"M17.41 7.96l-1.37-1.37c-.4-.4-.92-.59-1.43-.59-.52 0-1.04.2-1.43.59L10.3 9.45l-7.72 7.72c-.78.78-.78 2.05 0 2.83L4 21.41c.39.39.9.59 1.41.59.51 0 1.02-.2 1.41-.59l7.78-7.78 2.81-2.81c.8-.78.8-2.07 0-2.86zM5.41 20L4 18.59l7.72-7.72 1.47 1.35L5.41 20z\"/>\n",
              "  </svg>\n",
              "      </button>\n",
              "      \n",
              "  <style>\n",
              "    .colab-df-container {\n",
              "      display:flex;\n",
              "      flex-wrap:wrap;\n",
              "      gap: 12px;\n",
              "    }\n",
              "\n",
              "    .colab-df-convert {\n",
              "      background-color: #E8F0FE;\n",
              "      border: none;\n",
              "      border-radius: 50%;\n",
              "      cursor: pointer;\n",
              "      display: none;\n",
              "      fill: #1967D2;\n",
              "      height: 32px;\n",
              "      padding: 0 0 0 0;\n",
              "      width: 32px;\n",
              "    }\n",
              "\n",
              "    .colab-df-convert:hover {\n",
              "      background-color: #E2EBFA;\n",
              "      box-shadow: 0px 1px 2px rgba(60, 64, 67, 0.3), 0px 1px 3px 1px rgba(60, 64, 67, 0.15);\n",
              "      fill: #174EA6;\n",
              "    }\n",
              "\n",
              "    [theme=dark] .colab-df-convert {\n",
              "      background-color: #3B4455;\n",
              "      fill: #D2E3FC;\n",
              "    }\n",
              "\n",
              "    [theme=dark] .colab-df-convert:hover {\n",
              "      background-color: #434B5C;\n",
              "      box-shadow: 0px 1px 3px 1px rgba(0, 0, 0, 0.15);\n",
              "      filter: drop-shadow(0px 1px 2px rgba(0, 0, 0, 0.3));\n",
              "      fill: #FFFFFF;\n",
              "    }\n",
              "  </style>\n",
              "\n",
              "      <script>\n",
              "        const buttonEl =\n",
              "          document.querySelector('#df-aab92979-9d9c-447d-9b68-6f59db1283b0 button.colab-df-convert');\n",
              "        buttonEl.style.display =\n",
              "          google.colab.kernel.accessAllowed ? 'block' : 'none';\n",
              "\n",
              "        async function convertToInteractive(key) {\n",
              "          const element = document.querySelector('#df-aab92979-9d9c-447d-9b68-6f59db1283b0');\n",
              "          const dataTable =\n",
              "            await google.colab.kernel.invokeFunction('convertToInteractive',\n",
              "                                                     [key], {});\n",
              "          if (!dataTable) return;\n",
              "\n",
              "          const docLinkHtml = 'Like what you see? Visit the ' +\n",
              "            '<a target=\"_blank\" href=https://colab.research.google.com/notebooks/data_table.ipynb>data table notebook</a>'\n",
              "            + ' to learn more about interactive tables.';\n",
              "          element.innerHTML = '';\n",
              "          dataTable['output_type'] = 'display_data';\n",
              "          await google.colab.output.renderOutput(dataTable, element);\n",
              "          const docLink = document.createElement('div');\n",
              "          docLink.innerHTML = docLinkHtml;\n",
              "          element.appendChild(docLink);\n",
              "        }\n",
              "      </script>\n",
              "    </div>\n",
              "  </div>\n",
              "  "
            ]
          },
          "metadata": {},
          "execution_count": 257
        }
      ]
    },
    {
      "cell_type": "markdown",
      "source": [
        "### **EDA**"
      ],
      "metadata": {
        "id": "q_wZ56YLaH9O"
      }
    },
    {
      "cell_type": "code",
      "source": [
        "# Print the Shape\n",
        "print(\"Number of rows\",df.shape[0])\n",
        "print(\"Number of columns\",df.shape[1])"
      ],
      "metadata": {
        "colab": {
          "base_uri": "https://localhost:8080/"
        },
        "id": "Fctapp2tfKCt",
        "outputId": "f331d131-7618-4dad-da6d-8cc8b82fb763"
      },
      "execution_count": 260,
      "outputs": [
        {
          "output_type": "stream",
          "name": "stdout",
          "text": [
            "Number of rows 10000\n",
            "Number of columns 18\n"
          ]
        }
      ]
    },
    {
      "cell_type": "code",
      "source": [
        "#statistical summary of numerical columns\n",
        "df.describe()"
      ],
      "metadata": {
        "colab": {
          "base_uri": "https://localhost:8080/",
          "height": 416
        },
        "id": "QEBNdVT4a1wX",
        "outputId": "5966d1f3-24fc-4db1-98ba-944ebcec28ea"
      },
      "execution_count": 261,
      "outputs": [
        {
          "output_type": "execute_result",
          "data": {
            "text/plain": [
              "       Colour (TCU)  Turbidity (NTU)           pH  Conductivity (uS/cm)  \\\n",
              "count  10000.000000     10000.000000  9551.000000          10000.000000   \n",
              "mean      15.006526         5.003388     7.049056           1502.148272   \n",
              "std        8.717615         2.906118     0.546862            869.812955   \n",
              "min        0.010000         0.000000     0.000000              0.120000   \n",
              "25%        7.517500         2.490000     7.000000            741.635000   \n",
              "50%       15.000000         5.000000     7.000000           1500.095000   \n",
              "75%       22.660000         7.530000     7.400000           2259.740000   \n",
              "max       30.000000        10.000000     8.500000           2999.910000   \n",
              "\n",
              "       Total Dissolved Solids (mg/l)  Total Hardness (mg/l as CaCO3)  \\\n",
              "count                   10000.000000                    10000.000000   \n",
              "mean                     1001.183584                      300.613398   \n",
              "std                       578.522848                      171.478482   \n",
              "min                         0.050000                        0.030000   \n",
              "25%                       494.590000                      154.980000   \n",
              "50%                      1000.030000                      300.005000   \n",
              "75%                      1497.880000                      448.605000   \n",
              "max                      1999.960000                      599.970000   \n",
              "\n",
              "       Aluminium (mg/l)  Chloride (mg/l)  Total Iron (mg/l)  Sodium (mg/l)  \\\n",
              "count      10000.000000     10000.000000       10000.000000   10000.000000   \n",
              "mean           0.200808       249.491721           0.300165     200.793553   \n",
              "std            0.115359       144.526095           0.174572     116.039382   \n",
              "min            0.000000         0.000000           0.000000       0.010000   \n",
              "25%            0.100000       122.707500           0.150000      99.890000   \n",
              "50%            0.200000       249.915000           0.300000     199.995000   \n",
              "75%            0.300000       374.760000           0.450000     303.645000   \n",
              "max            0.400000       499.870000           0.600000     399.980000   \n",
              "\n",
              "       Sulphate (mg/l)   Zinc (mg/l)  Magnesium (mg/l)  Calcium (mg/l)  \\\n",
              "count     10000.000000  10000.000000      10000.000000    10000.000000   \n",
              "mean        402.124054      5.004608        100.026299      149.944522   \n",
              "std         230.187867      2.897890         57.979525       87.162086   \n",
              "min           0.030000      0.000000          0.030000        0.020000   \n",
              "25%         205.910000      2.460000         49.362500       74.417500   \n",
              "50%         400.125000      5.000000        100.015000      150.010000   \n",
              "75%         601.925000      7.500000        150.130000      226.245000   \n",
              "max         799.880000     10.000000        199.980000      299.970000   \n",
              "\n",
              "       Potassium (mg/l)  Nitrate (mg/l)  Phosphate (mg/l)  \n",
              "count      10000.000000    10000.000000      10000.000000  \n",
              "mean          49.838229       45.162176          2.205561  \n",
              "std           28.795520       25.861234          1.274395  \n",
              "min            0.000000        0.030000          0.000000  \n",
              "25%           24.490000       23.150000          1.090000  \n",
              "50%           49.990000       45.010000          2.200000  \n",
              "75%           75.040000       67.772500          3.320000  \n",
              "max          100.000000       90.000000          4.400000  "
            ],
            "text/html": [
              "\n",
              "  <div id=\"df-34a14ed5-0213-4dea-967f-3d3d2949da16\">\n",
              "    <div class=\"colab-df-container\">\n",
              "      <div>\n",
              "<style scoped>\n",
              "    .dataframe tbody tr th:only-of-type {\n",
              "        vertical-align: middle;\n",
              "    }\n",
              "\n",
              "    .dataframe tbody tr th {\n",
              "        vertical-align: top;\n",
              "    }\n",
              "\n",
              "    .dataframe thead th {\n",
              "        text-align: right;\n",
              "    }\n",
              "</style>\n",
              "<table border=\"1\" class=\"dataframe\">\n",
              "  <thead>\n",
              "    <tr style=\"text-align: right;\">\n",
              "      <th></th>\n",
              "      <th>Colour (TCU)</th>\n",
              "      <th>Turbidity (NTU)</th>\n",
              "      <th>pH</th>\n",
              "      <th>Conductivity (uS/cm)</th>\n",
              "      <th>Total Dissolved Solids (mg/l)</th>\n",
              "      <th>Total Hardness (mg/l as CaCO3)</th>\n",
              "      <th>Aluminium (mg/l)</th>\n",
              "      <th>Chloride (mg/l)</th>\n",
              "      <th>Total Iron (mg/l)</th>\n",
              "      <th>Sodium (mg/l)</th>\n",
              "      <th>Sulphate (mg/l)</th>\n",
              "      <th>Zinc (mg/l)</th>\n",
              "      <th>Magnesium (mg/l)</th>\n",
              "      <th>Calcium (mg/l)</th>\n",
              "      <th>Potassium (mg/l)</th>\n",
              "      <th>Nitrate (mg/l)</th>\n",
              "      <th>Phosphate (mg/l)</th>\n",
              "    </tr>\n",
              "  </thead>\n",
              "  <tbody>\n",
              "    <tr>\n",
              "      <th>count</th>\n",
              "      <td>10000.000000</td>\n",
              "      <td>10000.000000</td>\n",
              "      <td>9551.000000</td>\n",
              "      <td>10000.000000</td>\n",
              "      <td>10000.000000</td>\n",
              "      <td>10000.000000</td>\n",
              "      <td>10000.000000</td>\n",
              "      <td>10000.000000</td>\n",
              "      <td>10000.000000</td>\n",
              "      <td>10000.000000</td>\n",
              "      <td>10000.000000</td>\n",
              "      <td>10000.000000</td>\n",
              "      <td>10000.000000</td>\n",
              "      <td>10000.000000</td>\n",
              "      <td>10000.000000</td>\n",
              "      <td>10000.000000</td>\n",
              "      <td>10000.000000</td>\n",
              "    </tr>\n",
              "    <tr>\n",
              "      <th>mean</th>\n",
              "      <td>15.006526</td>\n",
              "      <td>5.003388</td>\n",
              "      <td>7.049056</td>\n",
              "      <td>1502.148272</td>\n",
              "      <td>1001.183584</td>\n",
              "      <td>300.613398</td>\n",
              "      <td>0.200808</td>\n",
              "      <td>249.491721</td>\n",
              "      <td>0.300165</td>\n",
              "      <td>200.793553</td>\n",
              "      <td>402.124054</td>\n",
              "      <td>5.004608</td>\n",
              "      <td>100.026299</td>\n",
              "      <td>149.944522</td>\n",
              "      <td>49.838229</td>\n",
              "      <td>45.162176</td>\n",
              "      <td>2.205561</td>\n",
              "    </tr>\n",
              "    <tr>\n",
              "      <th>std</th>\n",
              "      <td>8.717615</td>\n",
              "      <td>2.906118</td>\n",
              "      <td>0.546862</td>\n",
              "      <td>869.812955</td>\n",
              "      <td>578.522848</td>\n",
              "      <td>171.478482</td>\n",
              "      <td>0.115359</td>\n",
              "      <td>144.526095</td>\n",
              "      <td>0.174572</td>\n",
              "      <td>116.039382</td>\n",
              "      <td>230.187867</td>\n",
              "      <td>2.897890</td>\n",
              "      <td>57.979525</td>\n",
              "      <td>87.162086</td>\n",
              "      <td>28.795520</td>\n",
              "      <td>25.861234</td>\n",
              "      <td>1.274395</td>\n",
              "    </tr>\n",
              "    <tr>\n",
              "      <th>min</th>\n",
              "      <td>0.010000</td>\n",
              "      <td>0.000000</td>\n",
              "      <td>0.000000</td>\n",
              "      <td>0.120000</td>\n",
              "      <td>0.050000</td>\n",
              "      <td>0.030000</td>\n",
              "      <td>0.000000</td>\n",
              "      <td>0.000000</td>\n",
              "      <td>0.000000</td>\n",
              "      <td>0.010000</td>\n",
              "      <td>0.030000</td>\n",
              "      <td>0.000000</td>\n",
              "      <td>0.030000</td>\n",
              "      <td>0.020000</td>\n",
              "      <td>0.000000</td>\n",
              "      <td>0.030000</td>\n",
              "      <td>0.000000</td>\n",
              "    </tr>\n",
              "    <tr>\n",
              "      <th>25%</th>\n",
              "      <td>7.517500</td>\n",
              "      <td>2.490000</td>\n",
              "      <td>7.000000</td>\n",
              "      <td>741.635000</td>\n",
              "      <td>494.590000</td>\n",
              "      <td>154.980000</td>\n",
              "      <td>0.100000</td>\n",
              "      <td>122.707500</td>\n",
              "      <td>0.150000</td>\n",
              "      <td>99.890000</td>\n",
              "      <td>205.910000</td>\n",
              "      <td>2.460000</td>\n",
              "      <td>49.362500</td>\n",
              "      <td>74.417500</td>\n",
              "      <td>24.490000</td>\n",
              "      <td>23.150000</td>\n",
              "      <td>1.090000</td>\n",
              "    </tr>\n",
              "    <tr>\n",
              "      <th>50%</th>\n",
              "      <td>15.000000</td>\n",
              "      <td>5.000000</td>\n",
              "      <td>7.000000</td>\n",
              "      <td>1500.095000</td>\n",
              "      <td>1000.030000</td>\n",
              "      <td>300.005000</td>\n",
              "      <td>0.200000</td>\n",
              "      <td>249.915000</td>\n",
              "      <td>0.300000</td>\n",
              "      <td>199.995000</td>\n",
              "      <td>400.125000</td>\n",
              "      <td>5.000000</td>\n",
              "      <td>100.015000</td>\n",
              "      <td>150.010000</td>\n",
              "      <td>49.990000</td>\n",
              "      <td>45.010000</td>\n",
              "      <td>2.200000</td>\n",
              "    </tr>\n",
              "    <tr>\n",
              "      <th>75%</th>\n",
              "      <td>22.660000</td>\n",
              "      <td>7.530000</td>\n",
              "      <td>7.400000</td>\n",
              "      <td>2259.740000</td>\n",
              "      <td>1497.880000</td>\n",
              "      <td>448.605000</td>\n",
              "      <td>0.300000</td>\n",
              "      <td>374.760000</td>\n",
              "      <td>0.450000</td>\n",
              "      <td>303.645000</td>\n",
              "      <td>601.925000</td>\n",
              "      <td>7.500000</td>\n",
              "      <td>150.130000</td>\n",
              "      <td>226.245000</td>\n",
              "      <td>75.040000</td>\n",
              "      <td>67.772500</td>\n",
              "      <td>3.320000</td>\n",
              "    </tr>\n",
              "    <tr>\n",
              "      <th>max</th>\n",
              "      <td>30.000000</td>\n",
              "      <td>10.000000</td>\n",
              "      <td>8.500000</td>\n",
              "      <td>2999.910000</td>\n",
              "      <td>1999.960000</td>\n",
              "      <td>599.970000</td>\n",
              "      <td>0.400000</td>\n",
              "      <td>499.870000</td>\n",
              "      <td>0.600000</td>\n",
              "      <td>399.980000</td>\n",
              "      <td>799.880000</td>\n",
              "      <td>10.000000</td>\n",
              "      <td>199.980000</td>\n",
              "      <td>299.970000</td>\n",
              "      <td>100.000000</td>\n",
              "      <td>90.000000</td>\n",
              "      <td>4.400000</td>\n",
              "    </tr>\n",
              "  </tbody>\n",
              "</table>\n",
              "</div>\n",
              "      <button class=\"colab-df-convert\" onclick=\"convertToInteractive('df-34a14ed5-0213-4dea-967f-3d3d2949da16')\"\n",
              "              title=\"Convert this dataframe to an interactive table.\"\n",
              "              style=\"display:none;\">\n",
              "        \n",
              "  <svg xmlns=\"http://www.w3.org/2000/svg\" height=\"24px\"viewBox=\"0 0 24 24\"\n",
              "       width=\"24px\">\n",
              "    <path d=\"M0 0h24v24H0V0z\" fill=\"none\"/>\n",
              "    <path d=\"M18.56 5.44l.94 2.06.94-2.06 2.06-.94-2.06-.94-.94-2.06-.94 2.06-2.06.94zm-11 1L8.5 8.5l.94-2.06 2.06-.94-2.06-.94L8.5 2.5l-.94 2.06-2.06.94zm10 10l.94 2.06.94-2.06 2.06-.94-2.06-.94-.94-2.06-.94 2.06-2.06.94z\"/><path d=\"M17.41 7.96l-1.37-1.37c-.4-.4-.92-.59-1.43-.59-.52 0-1.04.2-1.43.59L10.3 9.45l-7.72 7.72c-.78.78-.78 2.05 0 2.83L4 21.41c.39.39.9.59 1.41.59.51 0 1.02-.2 1.41-.59l7.78-7.78 2.81-2.81c.8-.78.8-2.07 0-2.86zM5.41 20L4 18.59l7.72-7.72 1.47 1.35L5.41 20z\"/>\n",
              "  </svg>\n",
              "      </button>\n",
              "      \n",
              "  <style>\n",
              "    .colab-df-container {\n",
              "      display:flex;\n",
              "      flex-wrap:wrap;\n",
              "      gap: 12px;\n",
              "    }\n",
              "\n",
              "    .colab-df-convert {\n",
              "      background-color: #E8F0FE;\n",
              "      border: none;\n",
              "      border-radius: 50%;\n",
              "      cursor: pointer;\n",
              "      display: none;\n",
              "      fill: #1967D2;\n",
              "      height: 32px;\n",
              "      padding: 0 0 0 0;\n",
              "      width: 32px;\n",
              "    }\n",
              "\n",
              "    .colab-df-convert:hover {\n",
              "      background-color: #E2EBFA;\n",
              "      box-shadow: 0px 1px 2px rgba(60, 64, 67, 0.3), 0px 1px 3px 1px rgba(60, 64, 67, 0.15);\n",
              "      fill: #174EA6;\n",
              "    }\n",
              "\n",
              "    [theme=dark] .colab-df-convert {\n",
              "      background-color: #3B4455;\n",
              "      fill: #D2E3FC;\n",
              "    }\n",
              "\n",
              "    [theme=dark] .colab-df-convert:hover {\n",
              "      background-color: #434B5C;\n",
              "      box-shadow: 0px 1px 3px 1px rgba(0, 0, 0, 0.15);\n",
              "      filter: drop-shadow(0px 1px 2px rgba(0, 0, 0, 0.3));\n",
              "      fill: #FFFFFF;\n",
              "    }\n",
              "  </style>\n",
              "\n",
              "      <script>\n",
              "        const buttonEl =\n",
              "          document.querySelector('#df-34a14ed5-0213-4dea-967f-3d3d2949da16 button.colab-df-convert');\n",
              "        buttonEl.style.display =\n",
              "          google.colab.kernel.accessAllowed ? 'block' : 'none';\n",
              "\n",
              "        async function convertToInteractive(key) {\n",
              "          const element = document.querySelector('#df-34a14ed5-0213-4dea-967f-3d3d2949da16');\n",
              "          const dataTable =\n",
              "            await google.colab.kernel.invokeFunction('convertToInteractive',\n",
              "                                                     [key], {});\n",
              "          if (!dataTable) return;\n",
              "\n",
              "          const docLinkHtml = 'Like what you see? Visit the ' +\n",
              "            '<a target=\"_blank\" href=https://colab.research.google.com/notebooks/data_table.ipynb>data table notebook</a>'\n",
              "            + ' to learn more about interactive tables.';\n",
              "          element.innerHTML = '';\n",
              "          dataTable['output_type'] = 'display_data';\n",
              "          await google.colab.output.renderOutput(dataTable, element);\n",
              "          const docLink = document.createElement('div');\n",
              "          docLink.innerHTML = docLinkHtml;\n",
              "          element.appendChild(docLink);\n",
              "        }\n",
              "      </script>\n",
              "    </div>\n",
              "  </div>\n",
              "  "
            ]
          },
          "metadata": {},
          "execution_count": 261
        }
      ]
    },
    {
      "cell_type": "code",
      "source": [
        "#check missing value\n",
        "df.isnull().sum()"
      ],
      "metadata": {
        "colab": {
          "base_uri": "https://localhost:8080/"
        },
        "id": "WhDz2LAEgXkE",
        "outputId": "3c86944b-d944-4003-b8a1-7082e0cd695c"
      },
      "execution_count": 262,
      "outputs": [
        {
          "output_type": "execute_result",
          "data": {
            "text/plain": [
              "Colour (TCU)                        0\n",
              "Turbidity (NTU)                     0\n",
              " pH                               449\n",
              "Conductivity (uS/cm)                0\n",
              "Total Dissolved Solids (mg/l)       0\n",
              "Total Hardness (mg/l as CaCO3)      0\n",
              "Aluminium (mg/l)                    0\n",
              "Chloride (mg/l)                     0\n",
              "Total Iron (mg/l)                   0\n",
              "Sodium (mg/l)                       0\n",
              "Sulphate (mg/l)                     0\n",
              "Zinc (mg/l)                         0\n",
              "Magnesium (mg/l)                    0\n",
              "Calcium (mg/l)                      0\n",
              "Potassium (mg/l)                    0\n",
              "Nitrate (mg/l)                      0\n",
              "Phosphate (mg/l)                    0\n",
              "Potability                          0\n",
              "dtype: int64"
            ]
          },
          "metadata": {},
          "execution_count": 262
        }
      ]
    },
    {
      "cell_type": "code",
      "source": [
        "# Replace the missing values\n",
        "df.fillna(df.mean(), inplace=True)\n",
        "df.sample(5)"
      ],
      "metadata": {
        "colab": {
          "base_uri": "https://localhost:8080/",
          "height": 322
        },
        "id": "AhIx-GQzG6uD",
        "outputId": "6c99dcb2-f0d6-41cb-b5af-a8e91f34ab7d"
      },
      "execution_count": 263,
      "outputs": [
        {
          "output_type": "execute_result",
          "data": {
            "text/plain": [
              "      Colour (TCU)  Turbidity (NTU)    pH  Conductivity (uS/cm)  \\\n",
              "2835          6.84             1.47  7.70                930.56   \n",
              "9590         17.20             7.04  7.00               2745.20   \n",
              "6775         15.73             8.59  7.00               2934.63   \n",
              "7973         20.71             6.72  7.00               2898.16   \n",
              "3216          8.84             0.25  6.76                398.93   \n",
              "\n",
              "      Total Dissolved Solids (mg/l)  Total Hardness (mg/l as CaCO3)  \\\n",
              "2835                         984.67                           74.99   \n",
              "9590                        1949.11                          504.80   \n",
              "6775                        1897.11                          596.55   \n",
              "7973                        1469.73                          322.78   \n",
              "3216                         206.91                          208.91   \n",
              "\n",
              "      Aluminium (mg/l)  Chloride (mg/l)  Total Iron (mg/l)  Sodium (mg/l)  \\\n",
              "2835              0.02            15.77               0.23         107.87   \n",
              "9590              0.26           296.45               0.35         266.23   \n",
              "6775              0.37           437.61               0.42         261.66   \n",
              "7973              0.31           261.48               0.36         214.90   \n",
              "3216              0.09           174.92               0.04         194.65   \n",
              "\n",
              "      Sulphate (mg/l)  Zinc (mg/l)  Magnesium (mg/l)  Calcium (mg/l)  \\\n",
              "2835           151.99         1.97             27.95           42.94   \n",
              "9590           424.42         9.77            120.48          206.08   \n",
              "6775           649.11         9.38            198.29          279.59   \n",
              "7973           697.56         8.76            186.22          200.51   \n",
              "3216           354.15         4.08             52.09            4.69   \n",
              "\n",
              "      Potassium (mg/l)  Nitrate (mg/l)  Phosphate (mg/l)   Potability  \n",
              "2835             32.07           22.33              0.83      potable  \n",
              "9590             94.54           47.82              2.92  non-potable  \n",
              "6775             93.17           60.51              3.97  non-potable  \n",
              "7973             82.07           46.14              3.69  non-potable  \n",
              "3216             48.58           13.28              0.27      potable  "
            ],
            "text/html": [
              "\n",
              "  <div id=\"df-7bda4a30-cbe7-44c7-aa87-1f6265bdf919\">\n",
              "    <div class=\"colab-df-container\">\n",
              "      <div>\n",
              "<style scoped>\n",
              "    .dataframe tbody tr th:only-of-type {\n",
              "        vertical-align: middle;\n",
              "    }\n",
              "\n",
              "    .dataframe tbody tr th {\n",
              "        vertical-align: top;\n",
              "    }\n",
              "\n",
              "    .dataframe thead th {\n",
              "        text-align: right;\n",
              "    }\n",
              "</style>\n",
              "<table border=\"1\" class=\"dataframe\">\n",
              "  <thead>\n",
              "    <tr style=\"text-align: right;\">\n",
              "      <th></th>\n",
              "      <th>Colour (TCU)</th>\n",
              "      <th>Turbidity (NTU)</th>\n",
              "      <th>pH</th>\n",
              "      <th>Conductivity (uS/cm)</th>\n",
              "      <th>Total Dissolved Solids (mg/l)</th>\n",
              "      <th>Total Hardness (mg/l as CaCO3)</th>\n",
              "      <th>Aluminium (mg/l)</th>\n",
              "      <th>Chloride (mg/l)</th>\n",
              "      <th>Total Iron (mg/l)</th>\n",
              "      <th>Sodium (mg/l)</th>\n",
              "      <th>Sulphate (mg/l)</th>\n",
              "      <th>Zinc (mg/l)</th>\n",
              "      <th>Magnesium (mg/l)</th>\n",
              "      <th>Calcium (mg/l)</th>\n",
              "      <th>Potassium (mg/l)</th>\n",
              "      <th>Nitrate (mg/l)</th>\n",
              "      <th>Phosphate (mg/l)</th>\n",
              "      <th>Potability</th>\n",
              "    </tr>\n",
              "  </thead>\n",
              "  <tbody>\n",
              "    <tr>\n",
              "      <th>2835</th>\n",
              "      <td>6.84</td>\n",
              "      <td>1.47</td>\n",
              "      <td>7.70</td>\n",
              "      <td>930.56</td>\n",
              "      <td>984.67</td>\n",
              "      <td>74.99</td>\n",
              "      <td>0.02</td>\n",
              "      <td>15.77</td>\n",
              "      <td>0.23</td>\n",
              "      <td>107.87</td>\n",
              "      <td>151.99</td>\n",
              "      <td>1.97</td>\n",
              "      <td>27.95</td>\n",
              "      <td>42.94</td>\n",
              "      <td>32.07</td>\n",
              "      <td>22.33</td>\n",
              "      <td>0.83</td>\n",
              "      <td>potable</td>\n",
              "    </tr>\n",
              "    <tr>\n",
              "      <th>9590</th>\n",
              "      <td>17.20</td>\n",
              "      <td>7.04</td>\n",
              "      <td>7.00</td>\n",
              "      <td>2745.20</td>\n",
              "      <td>1949.11</td>\n",
              "      <td>504.80</td>\n",
              "      <td>0.26</td>\n",
              "      <td>296.45</td>\n",
              "      <td>0.35</td>\n",
              "      <td>266.23</td>\n",
              "      <td>424.42</td>\n",
              "      <td>9.77</td>\n",
              "      <td>120.48</td>\n",
              "      <td>206.08</td>\n",
              "      <td>94.54</td>\n",
              "      <td>47.82</td>\n",
              "      <td>2.92</td>\n",
              "      <td>non-potable</td>\n",
              "    </tr>\n",
              "    <tr>\n",
              "      <th>6775</th>\n",
              "      <td>15.73</td>\n",
              "      <td>8.59</td>\n",
              "      <td>7.00</td>\n",
              "      <td>2934.63</td>\n",
              "      <td>1897.11</td>\n",
              "      <td>596.55</td>\n",
              "      <td>0.37</td>\n",
              "      <td>437.61</td>\n",
              "      <td>0.42</td>\n",
              "      <td>261.66</td>\n",
              "      <td>649.11</td>\n",
              "      <td>9.38</td>\n",
              "      <td>198.29</td>\n",
              "      <td>279.59</td>\n",
              "      <td>93.17</td>\n",
              "      <td>60.51</td>\n",
              "      <td>3.97</td>\n",
              "      <td>non-potable</td>\n",
              "    </tr>\n",
              "    <tr>\n",
              "      <th>7973</th>\n",
              "      <td>20.71</td>\n",
              "      <td>6.72</td>\n",
              "      <td>7.00</td>\n",
              "      <td>2898.16</td>\n",
              "      <td>1469.73</td>\n",
              "      <td>322.78</td>\n",
              "      <td>0.31</td>\n",
              "      <td>261.48</td>\n",
              "      <td>0.36</td>\n",
              "      <td>214.90</td>\n",
              "      <td>697.56</td>\n",
              "      <td>8.76</td>\n",
              "      <td>186.22</td>\n",
              "      <td>200.51</td>\n",
              "      <td>82.07</td>\n",
              "      <td>46.14</td>\n",
              "      <td>3.69</td>\n",
              "      <td>non-potable</td>\n",
              "    </tr>\n",
              "    <tr>\n",
              "      <th>3216</th>\n",
              "      <td>8.84</td>\n",
              "      <td>0.25</td>\n",
              "      <td>6.76</td>\n",
              "      <td>398.93</td>\n",
              "      <td>206.91</td>\n",
              "      <td>208.91</td>\n",
              "      <td>0.09</td>\n",
              "      <td>174.92</td>\n",
              "      <td>0.04</td>\n",
              "      <td>194.65</td>\n",
              "      <td>354.15</td>\n",
              "      <td>4.08</td>\n",
              "      <td>52.09</td>\n",
              "      <td>4.69</td>\n",
              "      <td>48.58</td>\n",
              "      <td>13.28</td>\n",
              "      <td>0.27</td>\n",
              "      <td>potable</td>\n",
              "    </tr>\n",
              "  </tbody>\n",
              "</table>\n",
              "</div>\n",
              "      <button class=\"colab-df-convert\" onclick=\"convertToInteractive('df-7bda4a30-cbe7-44c7-aa87-1f6265bdf919')\"\n",
              "              title=\"Convert this dataframe to an interactive table.\"\n",
              "              style=\"display:none;\">\n",
              "        \n",
              "  <svg xmlns=\"http://www.w3.org/2000/svg\" height=\"24px\"viewBox=\"0 0 24 24\"\n",
              "       width=\"24px\">\n",
              "    <path d=\"M0 0h24v24H0V0z\" fill=\"none\"/>\n",
              "    <path d=\"M18.56 5.44l.94 2.06.94-2.06 2.06-.94-2.06-.94-.94-2.06-.94 2.06-2.06.94zm-11 1L8.5 8.5l.94-2.06 2.06-.94-2.06-.94L8.5 2.5l-.94 2.06-2.06.94zm10 10l.94 2.06.94-2.06 2.06-.94-2.06-.94-.94-2.06-.94 2.06-2.06.94z\"/><path d=\"M17.41 7.96l-1.37-1.37c-.4-.4-.92-.59-1.43-.59-.52 0-1.04.2-1.43.59L10.3 9.45l-7.72 7.72c-.78.78-.78 2.05 0 2.83L4 21.41c.39.39.9.59 1.41.59.51 0 1.02-.2 1.41-.59l7.78-7.78 2.81-2.81c.8-.78.8-2.07 0-2.86zM5.41 20L4 18.59l7.72-7.72 1.47 1.35L5.41 20z\"/>\n",
              "  </svg>\n",
              "      </button>\n",
              "      \n",
              "  <style>\n",
              "    .colab-df-container {\n",
              "      display:flex;\n",
              "      flex-wrap:wrap;\n",
              "      gap: 12px;\n",
              "    }\n",
              "\n",
              "    .colab-df-convert {\n",
              "      background-color: #E8F0FE;\n",
              "      border: none;\n",
              "      border-radius: 50%;\n",
              "      cursor: pointer;\n",
              "      display: none;\n",
              "      fill: #1967D2;\n",
              "      height: 32px;\n",
              "      padding: 0 0 0 0;\n",
              "      width: 32px;\n",
              "    }\n",
              "\n",
              "    .colab-df-convert:hover {\n",
              "      background-color: #E2EBFA;\n",
              "      box-shadow: 0px 1px 2px rgba(60, 64, 67, 0.3), 0px 1px 3px 1px rgba(60, 64, 67, 0.15);\n",
              "      fill: #174EA6;\n",
              "    }\n",
              "\n",
              "    [theme=dark] .colab-df-convert {\n",
              "      background-color: #3B4455;\n",
              "      fill: #D2E3FC;\n",
              "    }\n",
              "\n",
              "    [theme=dark] .colab-df-convert:hover {\n",
              "      background-color: #434B5C;\n",
              "      box-shadow: 0px 1px 3px 1px rgba(0, 0, 0, 0.15);\n",
              "      filter: drop-shadow(0px 1px 2px rgba(0, 0, 0, 0.3));\n",
              "      fill: #FFFFFF;\n",
              "    }\n",
              "  </style>\n",
              "\n",
              "      <script>\n",
              "        const buttonEl =\n",
              "          document.querySelector('#df-7bda4a30-cbe7-44c7-aa87-1f6265bdf919 button.colab-df-convert');\n",
              "        buttonEl.style.display =\n",
              "          google.colab.kernel.accessAllowed ? 'block' : 'none';\n",
              "\n",
              "        async function convertToInteractive(key) {\n",
              "          const element = document.querySelector('#df-7bda4a30-cbe7-44c7-aa87-1f6265bdf919');\n",
              "          const dataTable =\n",
              "            await google.colab.kernel.invokeFunction('convertToInteractive',\n",
              "                                                     [key], {});\n",
              "          if (!dataTable) return;\n",
              "\n",
              "          const docLinkHtml = 'Like what you see? Visit the ' +\n",
              "            '<a target=\"_blank\" href=https://colab.research.google.com/notebooks/data_table.ipynb>data table notebook</a>'\n",
              "            + ' to learn more about interactive tables.';\n",
              "          element.innerHTML = '';\n",
              "          dataTable['output_type'] = 'display_data';\n",
              "          await google.colab.output.renderOutput(dataTable, element);\n",
              "          const docLink = document.createElement('div');\n",
              "          docLink.innerHTML = docLinkHtml;\n",
              "          element.appendChild(docLink);\n",
              "        }\n",
              "      </script>\n",
              "    </div>\n",
              "  </div>\n",
              "  "
            ]
          },
          "metadata": {},
          "execution_count": 263
        }
      ]
    },
    {
      "cell_type": "code",
      "source": [
        "df.info()"
      ],
      "metadata": {
        "colab": {
          "base_uri": "https://localhost:8080/"
        },
        "id": "js7ArMFOdkVo",
        "outputId": "b2c3d083-82b3-407e-ecca-a2673da6bba0"
      },
      "execution_count": 264,
      "outputs": [
        {
          "output_type": "stream",
          "name": "stdout",
          "text": [
            "<class 'pandas.core.frame.DataFrame'>\n",
            "RangeIndex: 10000 entries, 0 to 9999\n",
            "Data columns (total 18 columns):\n",
            " #   Column                          Non-Null Count  Dtype  \n",
            "---  ------                          --------------  -----  \n",
            " 0   Colour (TCU)                    10000 non-null  float64\n",
            " 1   Turbidity (NTU)                 10000 non-null  float64\n",
            " 2    pH                             10000 non-null  float64\n",
            " 3   Conductivity (uS/cm)            10000 non-null  float64\n",
            " 4   Total Dissolved Solids (mg/l)   10000 non-null  float64\n",
            " 5   Total Hardness (mg/l as CaCO3)  10000 non-null  float64\n",
            " 6   Aluminium (mg/l)                10000 non-null  float64\n",
            " 7   Chloride (mg/l)                 10000 non-null  float64\n",
            " 8   Total Iron (mg/l)               10000 non-null  float64\n",
            " 9   Sodium (mg/l)                   10000 non-null  float64\n",
            " 10  Sulphate (mg/l)                 10000 non-null  float64\n",
            " 11  Zinc (mg/l)                     10000 non-null  float64\n",
            " 12  Magnesium (mg/l)                10000 non-null  float64\n",
            " 13  Calcium (mg/l)                  10000 non-null  float64\n",
            " 14  Potassium (mg/l)                10000 non-null  float64\n",
            " 15  Nitrate (mg/l)                  10000 non-null  float64\n",
            " 16  Phosphate (mg/l)                10000 non-null  float64\n",
            " 17  Potability                      10000 non-null  object \n",
            "dtypes: float64(17), object(1)\n",
            "memory usage: 1.4+ MB\n"
          ]
        }
      ]
    },
    {
      "cell_type": "code",
      "source": [
        "# As Potability data type \"object\" so assuming non-potable: 0, potable: 1\n",
        "df['Potability'] = df['Potability'].replace({'non-potable': 0, 'potable': 1})"
      ],
      "metadata": {
        "id": "KjVBZeBNIPw5"
      },
      "execution_count": 265,
      "outputs": []
    },
    {
      "cell_type": "code",
      "source": [
        "#Toatal number of Potability\n",
        "df.Potability.value_counts()"
      ],
      "metadata": {
        "colab": {
          "base_uri": "https://localhost:8080/"
        },
        "id": "a4O240oqd2XB",
        "outputId": "9c19a603-d0e7-4dde-bc05-016305ca39ac"
      },
      "execution_count": 266,
      "outputs": [
        {
          "output_type": "execute_result",
          "data": {
            "text/plain": [
              "1    5000\n",
              "0    5000\n",
              "Name: Potability, dtype: int64"
            ]
          },
          "metadata": {},
          "execution_count": 266
        }
      ]
    },
    {
      "cell_type": "code",
      "source": [
        "# Number of value against Potability\n",
        "df.groupby(\"Potability\").count()"
      ],
      "metadata": {
        "colab": {
          "base_uri": "https://localhost:8080/",
          "height": 259
        },
        "id": "VIgvlLpV6XCN",
        "outputId": "718e7577-f1b5-4e07-b016-ea520b4c75a0"
      },
      "execution_count": 267,
      "outputs": [
        {
          "output_type": "execute_result",
          "data": {
            "text/plain": [
              "            Colour (TCU)  Turbidity (NTU)    pH  Conductivity (uS/cm)  \\\n",
              "Potability                                                              \n",
              "0                   5000             5000  5000                  5000   \n",
              "1                   5000             5000  5000                  5000   \n",
              "\n",
              "            Total Dissolved Solids (mg/l)  Total Hardness (mg/l as CaCO3)  \\\n",
              "Potability                                                                  \n",
              "0                                    5000                            5000   \n",
              "1                                    5000                            5000   \n",
              "\n",
              "            Aluminium (mg/l)  Chloride (mg/l)  Total Iron (mg/l)  \\\n",
              "Potability                                                         \n",
              "0                       5000             5000               5000   \n",
              "1                       5000             5000               5000   \n",
              "\n",
              "            Sodium (mg/l)  Sulphate (mg/l)  Zinc (mg/l)  Magnesium (mg/l)  \\\n",
              "Potability                                                                  \n",
              "0                    5000             5000         5000              5000   \n",
              "1                    5000             5000         5000              5000   \n",
              "\n",
              "            Calcium (mg/l)  Potassium (mg/l)  Nitrate (mg/l)  Phosphate (mg/l)  \n",
              "Potability                                                                      \n",
              "0                     5000              5000            5000              5000  \n",
              "1                     5000              5000            5000              5000  "
            ],
            "text/html": [
              "\n",
              "  <div id=\"df-223a1fc2-d4d3-44ad-b788-c64d0251f2ed\">\n",
              "    <div class=\"colab-df-container\">\n",
              "      <div>\n",
              "<style scoped>\n",
              "    .dataframe tbody tr th:only-of-type {\n",
              "        vertical-align: middle;\n",
              "    }\n",
              "\n",
              "    .dataframe tbody tr th {\n",
              "        vertical-align: top;\n",
              "    }\n",
              "\n",
              "    .dataframe thead th {\n",
              "        text-align: right;\n",
              "    }\n",
              "</style>\n",
              "<table border=\"1\" class=\"dataframe\">\n",
              "  <thead>\n",
              "    <tr style=\"text-align: right;\">\n",
              "      <th></th>\n",
              "      <th>Colour (TCU)</th>\n",
              "      <th>Turbidity (NTU)</th>\n",
              "      <th>pH</th>\n",
              "      <th>Conductivity (uS/cm)</th>\n",
              "      <th>Total Dissolved Solids (mg/l)</th>\n",
              "      <th>Total Hardness (mg/l as CaCO3)</th>\n",
              "      <th>Aluminium (mg/l)</th>\n",
              "      <th>Chloride (mg/l)</th>\n",
              "      <th>Total Iron (mg/l)</th>\n",
              "      <th>Sodium (mg/l)</th>\n",
              "      <th>Sulphate (mg/l)</th>\n",
              "      <th>Zinc (mg/l)</th>\n",
              "      <th>Magnesium (mg/l)</th>\n",
              "      <th>Calcium (mg/l)</th>\n",
              "      <th>Potassium (mg/l)</th>\n",
              "      <th>Nitrate (mg/l)</th>\n",
              "      <th>Phosphate (mg/l)</th>\n",
              "    </tr>\n",
              "    <tr>\n",
              "      <th>Potability</th>\n",
              "      <th></th>\n",
              "      <th></th>\n",
              "      <th></th>\n",
              "      <th></th>\n",
              "      <th></th>\n",
              "      <th></th>\n",
              "      <th></th>\n",
              "      <th></th>\n",
              "      <th></th>\n",
              "      <th></th>\n",
              "      <th></th>\n",
              "      <th></th>\n",
              "      <th></th>\n",
              "      <th></th>\n",
              "      <th></th>\n",
              "      <th></th>\n",
              "      <th></th>\n",
              "    </tr>\n",
              "  </thead>\n",
              "  <tbody>\n",
              "    <tr>\n",
              "      <th>0</th>\n",
              "      <td>5000</td>\n",
              "      <td>5000</td>\n",
              "      <td>5000</td>\n",
              "      <td>5000</td>\n",
              "      <td>5000</td>\n",
              "      <td>5000</td>\n",
              "      <td>5000</td>\n",
              "      <td>5000</td>\n",
              "      <td>5000</td>\n",
              "      <td>5000</td>\n",
              "      <td>5000</td>\n",
              "      <td>5000</td>\n",
              "      <td>5000</td>\n",
              "      <td>5000</td>\n",
              "      <td>5000</td>\n",
              "      <td>5000</td>\n",
              "      <td>5000</td>\n",
              "    </tr>\n",
              "    <tr>\n",
              "      <th>1</th>\n",
              "      <td>5000</td>\n",
              "      <td>5000</td>\n",
              "      <td>5000</td>\n",
              "      <td>5000</td>\n",
              "      <td>5000</td>\n",
              "      <td>5000</td>\n",
              "      <td>5000</td>\n",
              "      <td>5000</td>\n",
              "      <td>5000</td>\n",
              "      <td>5000</td>\n",
              "      <td>5000</td>\n",
              "      <td>5000</td>\n",
              "      <td>5000</td>\n",
              "      <td>5000</td>\n",
              "      <td>5000</td>\n",
              "      <td>5000</td>\n",
              "      <td>5000</td>\n",
              "    </tr>\n",
              "  </tbody>\n",
              "</table>\n",
              "</div>\n",
              "      <button class=\"colab-df-convert\" onclick=\"convertToInteractive('df-223a1fc2-d4d3-44ad-b788-c64d0251f2ed')\"\n",
              "              title=\"Convert this dataframe to an interactive table.\"\n",
              "              style=\"display:none;\">\n",
              "        \n",
              "  <svg xmlns=\"http://www.w3.org/2000/svg\" height=\"24px\"viewBox=\"0 0 24 24\"\n",
              "       width=\"24px\">\n",
              "    <path d=\"M0 0h24v24H0V0z\" fill=\"none\"/>\n",
              "    <path d=\"M18.56 5.44l.94 2.06.94-2.06 2.06-.94-2.06-.94-.94-2.06-.94 2.06-2.06.94zm-11 1L8.5 8.5l.94-2.06 2.06-.94-2.06-.94L8.5 2.5l-.94 2.06-2.06.94zm10 10l.94 2.06.94-2.06 2.06-.94-2.06-.94-.94-2.06-.94 2.06-2.06.94z\"/><path d=\"M17.41 7.96l-1.37-1.37c-.4-.4-.92-.59-1.43-.59-.52 0-1.04.2-1.43.59L10.3 9.45l-7.72 7.72c-.78.78-.78 2.05 0 2.83L4 21.41c.39.39.9.59 1.41.59.51 0 1.02-.2 1.41-.59l7.78-7.78 2.81-2.81c.8-.78.8-2.07 0-2.86zM5.41 20L4 18.59l7.72-7.72 1.47 1.35L5.41 20z\"/>\n",
              "  </svg>\n",
              "      </button>\n",
              "      \n",
              "  <style>\n",
              "    .colab-df-container {\n",
              "      display:flex;\n",
              "      flex-wrap:wrap;\n",
              "      gap: 12px;\n",
              "    }\n",
              "\n",
              "    .colab-df-convert {\n",
              "      background-color: #E8F0FE;\n",
              "      border: none;\n",
              "      border-radius: 50%;\n",
              "      cursor: pointer;\n",
              "      display: none;\n",
              "      fill: #1967D2;\n",
              "      height: 32px;\n",
              "      padding: 0 0 0 0;\n",
              "      width: 32px;\n",
              "    }\n",
              "\n",
              "    .colab-df-convert:hover {\n",
              "      background-color: #E2EBFA;\n",
              "      box-shadow: 0px 1px 2px rgba(60, 64, 67, 0.3), 0px 1px 3px 1px rgba(60, 64, 67, 0.15);\n",
              "      fill: #174EA6;\n",
              "    }\n",
              "\n",
              "    [theme=dark] .colab-df-convert {\n",
              "      background-color: #3B4455;\n",
              "      fill: #D2E3FC;\n",
              "    }\n",
              "\n",
              "    [theme=dark] .colab-df-convert:hover {\n",
              "      background-color: #434B5C;\n",
              "      box-shadow: 0px 1px 3px 1px rgba(0, 0, 0, 0.15);\n",
              "      filter: drop-shadow(0px 1px 2px rgba(0, 0, 0, 0.3));\n",
              "      fill: #FFFFFF;\n",
              "    }\n",
              "  </style>\n",
              "\n",
              "      <script>\n",
              "        const buttonEl =\n",
              "          document.querySelector('#df-223a1fc2-d4d3-44ad-b788-c64d0251f2ed button.colab-df-convert');\n",
              "        buttonEl.style.display =\n",
              "          google.colab.kernel.accessAllowed ? 'block' : 'none';\n",
              "\n",
              "        async function convertToInteractive(key) {\n",
              "          const element = document.querySelector('#df-223a1fc2-d4d3-44ad-b788-c64d0251f2ed');\n",
              "          const dataTable =\n",
              "            await google.colab.kernel.invokeFunction('convertToInteractive',\n",
              "                                                     [key], {});\n",
              "          if (!dataTable) return;\n",
              "\n",
              "          const docLinkHtml = 'Like what you see? Visit the ' +\n",
              "            '<a target=\"_blank\" href=https://colab.research.google.com/notebooks/data_table.ipynb>data table notebook</a>'\n",
              "            + ' to learn more about interactive tables.';\n",
              "          element.innerHTML = '';\n",
              "          dataTable['output_type'] = 'display_data';\n",
              "          await google.colab.output.renderOutput(dataTable, element);\n",
              "          const docLink = document.createElement('div');\n",
              "          docLink.innerHTML = docLinkHtml;\n",
              "          element.appendChild(docLink);\n",
              "        }\n",
              "      </script>\n",
              "    </div>\n",
              "  </div>\n",
              "  "
            ]
          },
          "metadata": {},
          "execution_count": 267
        }
      ]
    },
    {
      "cell_type": "markdown",
      "source": [
        "Data Visualization"
      ],
      "metadata": {
        "id": "Y977ml3dn5-l"
      }
    },
    {
      "cell_type": "code",
      "source": [
        "df.columns"
      ],
      "metadata": {
        "id": "JSUiK4mxn5wZ",
        "colab": {
          "base_uri": "https://localhost:8080/"
        },
        "outputId": "ad191033-74aa-4527-a53b-a9f7763a5ac6"
      },
      "execution_count": 268,
      "outputs": [
        {
          "output_type": "execute_result",
          "data": {
            "text/plain": [
              "Index(['Colour (TCU)', 'Turbidity (NTU)', ' pH', 'Conductivity (uS/cm)',\n",
              "       'Total Dissolved Solids (mg/l)', 'Total Hardness (mg/l as CaCO3)',\n",
              "       'Aluminium (mg/l)', 'Chloride (mg/l)', 'Total Iron (mg/l)',\n",
              "       'Sodium (mg/l)', 'Sulphate (mg/l)', 'Zinc (mg/l)', 'Magnesium (mg/l)',\n",
              "       'Calcium (mg/l)', 'Potassium (mg/l)', 'Nitrate (mg/l)',\n",
              "       'Phosphate (mg/l)', 'Potability'],\n",
              "      dtype='object')"
            ]
          },
          "metadata": {},
          "execution_count": 268
        }
      ]
    },
    {
      "cell_type": "code",
      "source": [
        "#As column name is long and not suitable so change the column name\n",
        "df = df.rename(columns = {\n",
        "    'Colour (TCU)' : 'colour' ,'Turbidity (NTU)' : 'turbidity' , 'Conductivity (uS/cm)' : 'conductivity' ,\n",
        "    'Total Dissolved Solids (mg/l)' : 'tds' ,'Total Hardness (mg/l as CaCO3)' : 'Th' ,'Aluminium (mg/l)' : 'aluminium' ,\n",
        "    'Chloride (mg/l)' : 'chloride' ,'Total Iron (mg/l)' : 'TI' ,'Sodium (mg/l)' : 'sodium' ,\n",
        "    'Sulphate (mg/l)' : 'sulphate' ,'Zinc (mg/l)' : 'zinc' ,'Magnesium (mg/l)' : 'magnesium' , 'Calcium (mg/l)' : 'calcium' ,\n",
        "    'Potassium (mg/l)' : 'potassium' ,'Nitrate (mg/l)' : 'nitrate' , 'Phosphate (mg/l)' : 'phosphate','Potability':'potability'\n",
        "})"
      ],
      "metadata": {
        "id": "aJOupMYcqzi1"
      },
      "execution_count": 269,
      "outputs": []
    },
    {
      "cell_type": "code",
      "source": [
        "#Visualize the data\n",
        "df.hist(figsize=(15,15))\n",
        "plt.show()"
      ],
      "metadata": {
        "colab": {
          "base_uri": "https://localhost:8080/",
          "height": 1000
        },
        "id": "NFAbsRdlnnSU",
        "outputId": "dc865193-1033-4fdb-a856-b599b46bed70"
      },
      "execution_count": 270,
      "outputs": [
        {
          "output_type": "display_data",
          "data": {
            "text/plain": [
              "<Figure size 1500x1500 with 20 Axes>"
            ],
            "image/png": "[encoded data removed]"
          },
          "metadata": {}
        }
      ]
    },
    {
      "cell_type": "code",
      "source": [
        "# Plot correlation heatmap\n",
        "plt.figure(figsize=(15,10))\n",
        "sns.heatmap(df.corr(),annot=True,cmap='viridis',linewidths=1,fmt='0.2g')\n",
        "plt.gcf().autofmt_xdate()"
      ],
      "metadata": {
        "colab": {
          "base_uri": "https://localhost:8080/",
          "height": 743
        },
        "id": "I6LCF44dW8rS",
        "outputId": "80a536e4-8025-4355-843a-b6cc3bdf8351"
      },
      "execution_count": 271,
      "outputs": [
        {
          "output_type": "display_data",
          "data": {
            "text/plain": [
              "<Figure size 1500x1000 with 2 Axes>"
            ],
            "image/png": "[encoded data removed]"
          },
          "metadata": {}
        }
      ]
    },
    {
      "cell_type": "code",
      "source": [
        "df.boxplot(figsize=(20,9))"
      ],
      "metadata": {
        "colab": {
          "base_uri": "https://localhost:8080/",
          "height": 546
        },
        "id": "IIZ4nbLGzxxK",
        "outputId": "60d4a13d-1f20-4c3f-d4ce-cc224ae3bcf1"
      },
      "execution_count": 339,
      "outputs": [
        {
          "output_type": "execute_result",
          "data": {
            "text/plain": [
              "<Axes: >"
            ]
          },
          "metadata": {},
          "execution_count": 339
        },
        {
          "output_type": "display_data",
          "data": {
            "text/plain": [
              "<Figure size 2000x900 with 1 Axes>"
            ],
            "image/png": "[encoded data removed]"
          },
          "metadata": {}
        }
      ]
    },
    {
      "cell_type": "code",
      "source": [
        "plt.figure(figsize=(3,3))\n",
        "df.potability.value_counts().plot(kind=\"bar\", color=[\"blue\", \"yellow\"])\n",
        "plt.xticks(ticks=[0, 1], labels = [\"Not Potable\", \"Potable\"])\n",
        "plt.show()"
      ],
      "metadata": {
        "colab": {
          "base_uri": "https://localhost:8080/",
          "height": 358
        },
        "id": "lquK0gg5jFMZ",
        "outputId": "9d10ae0a-3095-4506-d815-8a5180ea613c"
      },
      "execution_count": 273,
      "outputs": [
        {
          "output_type": "display_data",
          "data": {
            "text/plain": [
              "<Figure size 300x300 with 1 Axes>"
            ],
            "image/png": "[encoded data removed]"
          },
          "metadata": {}
        }
      ]
    },
    {
      "cell_type": "code",
      "source": [
        "X = df.drop('potability',axis=1).values\n",
        "y = df['potability'].values"
      ],
      "metadata": {
        "id": "iJHwVV05jiQT"
      },
      "execution_count": 274,
      "outputs": []
    },
    {
      "cell_type": "markdown",
      "source": [
        "### **Split train and test data**"
      ],
      "metadata": {
        "id": "jThUdlPo3yTD"
      }
    },
    {
      "cell_type": "code",
      "source": [
        "X_train, X_test, y_train, y_test = train_test_split(X, y, test_size=0.3, random_state=101)"
      ],
      "metadata": {
        "id": "qKoEs8Rn23ZY"
      },
      "execution_count": 275,
      "outputs": []
    },
    {
      "cell_type": "code",
      "source": [
        "print('Size Training Set: {}'.format(len(X_train)))\n",
        "print('Size Testing Set: {}'.format(len(X_test)))"
      ],
      "metadata": {
        "colab": {
          "base_uri": "https://localhost:8080/"
        },
        "id": "8C8qAgtOrE7S",
        "outputId": "ed669306-15d6-43ea-ee26-84256b14f4dc"
      },
      "execution_count": 276,
      "outputs": [
        {
          "output_type": "stream",
          "name": "stdout",
          "text": [
            "Size Training Set: 7000\n",
            "Size Testing Set: 3000\n"
          ]
        }
      ]
    },
    {
      "cell_type": "code",
      "source": [
        "# Apply scaling\n",
        "scaler = StandardScaler()\n",
        "scaler.fit(X_train)\n",
        "X_train = scaler.transform(X_train)\n",
        "X_test = scaler.transform(X_test)"
      ],
      "metadata": {
        "id": "xQsYfMR83Cr6"
      },
      "execution_count": 277,
      "outputs": []
    },
    {
      "cell_type": "markdown",
      "source": [
        "### Apply ML Algorithm"
      ],
      "metadata": {
        "id": "9fG_SLOb_my0"
      }
    },
    {
      "cell_type": "code",
      "source": [
        "# Call ML library\n",
        "from sklearn.linear_model import LogisticRegression\n",
        "from sklearn.svm import SVC\n",
        "from sklearn.neighbors import KNeighborsClassifier\n",
        "from sklearn.tree import DecisionTreeClassifier\n",
        "from sklearn.ensemble import RandomForestClassifier\n",
        "from sklearn.naive_bayes import GaussianNB\n",
        "\n",
        "# Evaluation & CV Libraries\n",
        "from sklearn.metrics import confusion_matrix, accuracy_score, classification_report\n"
      ],
      "metadata": {
        "id": "K55_wNcx3klF"
      },
      "execution_count": 305,
      "outputs": []
    },
    {
      "cell_type": "markdown",
      "source": [
        " Logistic Regression"
      ],
      "metadata": {
        "id": "Rrg1PdPN4pAp"
      }
    },
    {
      "cell_type": "code",
      "source": [
        "model_lgr = LogisticRegression(max_iter=1000, random_state=42, n_jobs=1)\n",
        "model_lgr.fit(X_train, y_train)\n",
        "pred_lgr = model_lgr.predict(X_test)"
      ],
      "metadata": {
        "id": "cVHM_BVU_2tq"
      },
      "execution_count": 297,
      "outputs": []
    },
    {
      "cell_type": "code",
      "source": [
        "lgr = accuracy_score(y_test, pred_lgr)\n",
        "print(\" Logistic Regression accuracy:\",lgr)"
      ],
      "metadata": {
        "colab": {
          "base_uri": "https://localhost:8080/"
        },
        "id": "F3hzrgRd_2op",
        "outputId": "802da59a-c755-489b-f250-120abbb005fb"
      },
      "execution_count": 300,
      "outputs": [
        {
          "output_type": "stream",
          "name": "stdout",
          "text": [
            " Logistic Regression accuracy: 1.0\n"
          ]
        }
      ]
    },
    {
      "cell_type": "code",
      "source": [
        "print(classification_report(y_test,pred_lgr))"
      ],
      "metadata": {
        "colab": {
          "base_uri": "https://localhost:8080/"
        },
        "id": "ZxYiCFln_2mY",
        "outputId": "3adbb0a8-ef81-452a-a27a-52fe2e6418b9"
      },
      "execution_count": 301,
      "outputs": [
        {
          "output_type": "stream",
          "name": "stdout",
          "text": [
            "              precision    recall  f1-score   support\n",
            "\n",
            "           0       1.00      1.00      1.00      1496\n",
            "           1       1.00      1.00      1.00      1504\n",
            "\n",
            "    accuracy                           1.00      3000\n",
            "   macro avg       1.00      1.00      1.00      3000\n",
            "weighted avg       1.00      1.00      1.00      3000\n",
            "\n"
          ]
        }
      ]
    },
    {
      "cell_type": "markdown",
      "source": [
        "GaussianNB"
      ],
      "metadata": {
        "id": "XljS_iRTT5DI"
      }
    },
    {
      "cell_type": "code",
      "source": [
        "model = GaussianNB()\n",
        "\n",
        "# Training Model\n",
        "model.fit(X_train, y_train)\n",
        "\n",
        "# Making predictions\n",
        "y_predgb = model.predict(X_test)\n",
        "\n",
        "# Calculating the accuracy of the model\n",
        "accuracy = accuracy_score(y_test, y_predgb)\n",
        "print(\"Accuracy: {accuracy}\")"
      ],
      "metadata": {
        "colab": {
          "base_uri": "https://localhost:8080/"
        },
        "id": "_4PiLp2eKuT5",
        "outputId": "f607a35f-60e6-4d71-8445-733b2e923ec6"
      },
      "execution_count": 332,
      "outputs": [
        {
          "output_type": "stream",
          "name": "stdout",
          "text": [
            "Accuracy: {accuracy}\n"
          ]
        }
      ]
    },
    {
      "cell_type": "code",
      "source": [
        "print(classification_report(y_test,y_predgb))"
      ],
      "metadata": {
        "colab": {
          "base_uri": "https://localhost:8080/"
        },
        "id": "ylLC6t_iK7Xo",
        "outputId": "7b796d6a-898e-4da7-ec75-5bb82d1e7297"
      },
      "execution_count": 333,
      "outputs": [
        {
          "output_type": "stream",
          "name": "stdout",
          "text": [
            "              precision    recall  f1-score   support\n",
            "\n",
            "           0       1.00      1.00      1.00      1496\n",
            "           1       1.00      1.00      1.00      1504\n",
            "\n",
            "    accuracy                           1.00      3000\n",
            "   macro avg       1.00      1.00      1.00      3000\n",
            "weighted avg       1.00      1.00      1.00      3000\n",
            "\n"
          ]
        }
      ]
    },
    {
      "cell_type": "markdown",
      "source": [
        "Decision Tree Classifier"
      ],
      "metadata": {
        "id": "cefyC8xMBfqz"
      }
    },
    {
      "cell_type": "code",
      "source": [
        "model_dt = DecisionTreeClassifier( max_depth=4, random_state=42)\n",
        "# Training Model\n",
        "model_dt.fit(X_train,y_train)\n",
        "DecisionTreeClassifier(max_depth=4, random_state=42)\n",
        "#Prediction\n",
        "pred_dt = model_dt.predict(X_test)"
      ],
      "metadata": {
        "id": "F67pHGp8_2VZ"
      },
      "execution_count": 302,
      "outputs": []
    },
    {
      "cell_type": "code",
      "source": [
        "dt = accuracy_score(y_test, pred_dt)\n",
        "print(\"Decision Tree Classifier accuracy:\",dt)"
      ],
      "metadata": {
        "colab": {
          "base_uri": "https://localhost:8080/"
        },
        "id": "4PjbsUlvB1Ku",
        "outputId": "90af080d-d916-4482-9c3b-454add54c04c"
      },
      "execution_count": 303,
      "outputs": [
        {
          "output_type": "stream",
          "name": "stdout",
          "text": [
            "Decision Tree Classifier accuracy: 1.0\n"
          ]
        }
      ]
    },
    {
      "cell_type": "code",
      "source": [
        "print(classification_report(y_test,pred_dt))"
      ],
      "metadata": {
        "colab": {
          "base_uri": "https://localhost:8080/"
        },
        "id": "FGKEGx8qCKjV",
        "outputId": "5a68007d-b4f7-41d6-c93f-630f2c98b993"
      },
      "execution_count": 304,
      "outputs": [
        {
          "output_type": "stream",
          "name": "stdout",
          "text": [
            "              precision    recall  f1-score   support\n",
            "\n",
            "           0       1.00      1.00      1.00      1496\n",
            "           1       1.00      1.00      1.00      1504\n",
            "\n",
            "    accuracy                           1.00      3000\n",
            "   macro avg       1.00      1.00      1.00      3000\n",
            "weighted avg       1.00      1.00      1.00      3000\n",
            "\n"
          ]
        }
      ]
    },
    {
      "cell_type": "markdown",
      "source": [
        "Random Forest"
      ],
      "metadata": {
        "id": "h2AzpFaZCeGD"
      }
    },
    {
      "cell_type": "code",
      "source": [
        "# Creating model object\n",
        "model_rf = RandomForestClassifier(n_estimators=300,min_samples_leaf=0.16, random_state=42)\n",
        "# Training Model\n",
        "model_rf.fit(X_train, y_train)\n",
        "RandomForestClassifier(min_samples_leaf=0.5, n_estimators=200, random_state=42)\n",
        "# Making Prediction\n",
        "pred_rf = model_rf.predict(X_test)\n",
        "# Calculating Accuracy Score\n",
        "rf = accuracy_score(y_test, pred_rf)\n",
        "print(\"Random Forest accuray:\",rf)"
      ],
      "metadata": {
        "colab": {
          "base_uri": "https://localhost:8080/"
        },
        "id": "O_VebHqRCm6l",
        "outputId": "d8a2310b-8873-4bbb-f15b-f1a2add3dc9b"
      },
      "execution_count": 308,
      "outputs": [
        {
          "output_type": "stream",
          "name": "stdout",
          "text": [
            "Random Forest accuray: 1.0\n"
          ]
        }
      ]
    },
    {
      "cell_type": "code",
      "source": [
        "print(classification_report(y_test,pred_rf))"
      ],
      "metadata": {
        "colab": {
          "base_uri": "https://localhost:8080/"
        },
        "id": "usEPYPeCCm3V",
        "outputId": "0a0bc402-7d89-4707-d67d-6ad518607a84"
      },
      "execution_count": 309,
      "outputs": [
        {
          "output_type": "stream",
          "name": "stdout",
          "text": [
            "              precision    recall  f1-score   support\n",
            "\n",
            "           0       1.00      1.00      1.00      1496\n",
            "           1       1.00      1.00      1.00      1504\n",
            "\n",
            "    accuracy                           1.00      3000\n",
            "   macro avg       1.00      1.00      1.00      3000\n",
            "weighted avg       1.00      1.00      1.00      3000\n",
            "\n"
          ]
        }
      ]
    },
    {
      "cell_type": "markdown",
      "source": [
        "KNeighbours"
      ],
      "metadata": {
        "id": "4XveOd9SIm9p"
      }
    },
    {
      "cell_type": "code",
      "source": [
        "# Creating model object\n",
        "model_kng = KNeighborsClassifier(n_neighbors=5, leaf_size=10)\n",
        "# Training Model\n",
        "model_kng.fit(X_train, y_train)\n",
        "KNeighborsClassifier(leaf_size=10, n_neighbors=5)\n",
        "# Making Prediction\n",
        "pred_kng = model_kng.predict(X_test)\n",
        "# Calculating Accuracy Score\n",
        "kng = accuracy_score(y_test, pred_kng)\n",
        "print(\"Accuracy Score: \",kng)\n"
      ],
      "metadata": {
        "colab": {
          "base_uri": "https://localhost:8080/"
        },
        "id": "d83onyj4Cmw8",
        "outputId": "972d763e-ebfe-4251-f9cd-e556856e8e2c"
      },
      "execution_count": 324,
      "outputs": [
        {
          "output_type": "stream",
          "name": "stdout",
          "text": [
            "Accuracy Score:  1.0\n"
          ]
        }
      ]
    },
    {
      "cell_type": "code",
      "source": [
        "print(classification_report(y_test,pred_kng))"
      ],
      "metadata": {
        "colab": {
          "base_uri": "https://localhost:8080/"
        },
        "id": "xIOnsQZDJD80",
        "outputId": "51df39c3-7521-449f-a219-ea504788faa1"
      },
      "execution_count": 323,
      "outputs": [
        {
          "output_type": "stream",
          "name": "stdout",
          "text": [
            "              precision    recall  f1-score   support\n",
            "\n",
            "           0       1.00      1.00      1.00      1496\n",
            "           1       1.00      1.00      1.00      1504\n",
            "\n",
            "    accuracy                           1.00      3000\n",
            "   macro avg       1.00      1.00      1.00      3000\n",
            "weighted avg       1.00      1.00      1.00      3000\n",
            "\n"
          ]
        }
      ]
    },
    {
      "cell_type": "markdown",
      "source": [
        "SVC"
      ],
      "metadata": {
        "id": "4ZkJE-QYJfm9"
      }
    },
    {
      "cell_type": "code",
      "source": [
        "model_svm = SVC(kernel='rbf', random_state = 42)\n",
        "model_svm.fit(X_train, y_train)\n",
        "SVC(random_state=42)\n",
        "# Making Prediction\n",
        "pred_svm = model_svm.predict(X_test)\n",
        "# Calculating Accuracy Score\n",
        "svc= accuracy_score(y_test, pred_svm)\n",
        "print(\"accuracy SVC:\",svc)\n"
      ],
      "metadata": {
        "colab": {
          "base_uri": "https://localhost:8080/"
        },
        "id": "ZBmWmii9JaCr",
        "outputId": "979556ad-e0eb-4607-b2fc-4c2ecafe9f61"
      },
      "execution_count": 327,
      "outputs": [
        {
          "output_type": "stream",
          "name": "stdout",
          "text": [
            "accuracy SVC: 1.0\n"
          ]
        }
      ]
    },
    {
      "cell_type": "code",
      "source": [
        "print(classification_report(y_test,pred_svm))"
      ],
      "metadata": {
        "colab": {
          "base_uri": "https://localhost:8080/"
        },
        "id": "4nxwANAWJj9j",
        "outputId": "173ddbb3-71d3-41eb-a6c1-34689df468c3"
      },
      "execution_count": 330,
      "outputs": [
        {
          "output_type": "stream",
          "name": "stdout",
          "text": [
            "              precision    recall  f1-score   support\n",
            "\n",
            "           0       1.00      1.00      1.00      1496\n",
            "           1       1.00      1.00      1.00      1504\n",
            "\n",
            "    accuracy                           1.00      3000\n",
            "   macro avg       1.00      1.00      1.00      3000\n",
            "weighted avg       1.00      1.00      1.00      3000\n",
            "\n"
          ]
        }
      ]
    },
    {
      "cell_type": "markdown",
      "source": [
        "Apply ANN Model"
      ],
      "metadata": {
        "id": "t_4nGhpga0E_"
      }
    },
    {
      "cell_type": "code",
      "source": [
        "from keras.models import Sequential\n",
        "from keras.layers import Dense\n",
        "\n",
        "# Hidden layer\n",
        "model = Sequential()\n",
        "model.add(Dense(1000, activation='relu'))\n",
        "model.add(Dense(500, activation='relu'))\n",
        "model.add(Dense(250, activation='relu'))\n",
        "model.add(Dense(125, activation='relu'))\n",
        "model.add(Dense(1, activation='sigmoid'))\n",
        "\n",
        "# Compile the model\n",
        "model.compile(loss='binary_crossentropy', optimizer='adam', metrics=['accuracy'])\n",
        "\n",
        "# Train the model\n",
        "model.fit(X, y, epochs=50, batch_size=50)\n",
        "\n",
        "# Make predictions\n",
        "predictions = model.predict(X)\n",
        "print(predictions)\n"
      ],
      "metadata": {
        "colab": {
          "base_uri": "https://localhost:8080/"
        },
        "id": "ww0AHGb3-s2l",
        "outputId": "4a49ab88-6e1a-42e4-af88-19afd56c16c4"
      },
      "execution_count": 256,
      "outputs": [
        {
          "output_type": "stream",
          "name": "stdout",
          "text": [
            "Epoch 1/50\n",
            "200/200 [==============================] - 4s 17ms/step - loss: 3.1430 - accuracy: 0.8809\n",
            "Epoch 2/50\n",
            "200/200 [==============================] - 4s 20ms/step - loss: 0.3273 - accuracy: 0.9449\n",
            "Epoch 3/50\n",
            "200/200 [==============================] - 4s 20ms/step - loss: 0.0565 - accuracy: 0.9791\n",
            "Epoch 4/50\n",
            "200/200 [==============================] - 3s 16ms/step - loss: 0.0399 - accuracy: 0.9855\n",
            "Epoch 5/50\n",
            "200/200 [==============================] - 3s 16ms/step - loss: 0.0847 - accuracy: 0.9743\n",
            "Epoch 6/50\n",
            "200/200 [==============================] - 4s 21ms/step - loss: 0.0517 - accuracy: 0.9820\n",
            "Epoch 7/50\n",
            "200/200 [==============================] - 4s 20ms/step - loss: 0.0170 - accuracy: 0.9941\n",
            "Epoch 8/50\n",
            "200/200 [==============================] - 4s 18ms/step - loss: 0.0260 - accuracy: 0.9906\n",
            "Epoch 9/50\n",
            "200/200 [==============================] - 3s 16ms/step - loss: 0.0195 - accuracy: 0.9932\n",
            "Epoch 10/50\n",
            "200/200 [==============================] - 6s 31ms/step - loss: 0.0286 - accuracy: 0.9897\n",
            "Epoch 11/50\n",
            "200/200 [==============================] - 5s 27ms/step - loss: 0.7412 - accuracy: 0.9366\n",
            "Epoch 12/50\n",
            "200/200 [==============================] - 4s 20ms/step - loss: 0.0116 - accuracy: 0.9961\n",
            "Epoch 13/50\n",
            "200/200 [==============================] - 7s 35ms/step - loss: 0.0095 - accuracy: 0.9964\n",
            "Epoch 14/50\n",
            "200/200 [==============================] - 4s 20ms/step - loss: 0.0126 - accuracy: 0.9965\n",
            "Epoch 15/50\n",
            "200/200 [==============================] - 3s 15ms/step - loss: 0.0067 - accuracy: 0.9974\n",
            "Epoch 16/50\n",
            "200/200 [==============================] - 3s 15ms/step - loss: 0.0078 - accuracy: 0.9973\n",
            "Epoch 17/50\n",
            "200/200 [==============================] - 5s 24ms/step - loss: 0.0038 - accuracy: 0.9983\n",
            "Epoch 18/50\n",
            "200/200 [==============================] - 3s 15ms/step - loss: 0.0033 - accuracy: 0.9989\n",
            "Epoch 19/50\n",
            "200/200 [==============================] - 3s 17ms/step - loss: 0.0039 - accuracy: 0.9984\n",
            "Epoch 20/50\n",
            "200/200 [==============================] - 3s 16ms/step - loss: 0.0131 - accuracy: 0.9953\n",
            "Epoch 21/50\n",
            "200/200 [==============================] - 5s 25ms/step - loss: 0.0063 - accuracy: 0.9979\n",
            "Epoch 22/50\n",
            "200/200 [==============================] - 3s 15ms/step - loss: 0.0035 - accuracy: 0.9989\n",
            "Epoch 23/50\n",
            "200/200 [==============================] - 4s 18ms/step - loss: 0.0128 - accuracy: 0.9957\n",
            "Epoch 24/50\n",
            "200/200 [==============================] - 3s 16ms/step - loss: 0.0119 - accuracy: 0.9956\n",
            "Epoch 25/50\n",
            "200/200 [==============================] - 5s 23ms/step - loss: 0.0016 - accuracy: 0.9994\n",
            "Epoch 26/50\n",
            "200/200 [==============================] - 3s 17ms/step - loss: 0.0044 - accuracy: 0.9983\n",
            "Epoch 27/50\n",
            "200/200 [==============================] - 3s 17ms/step - loss: 0.6891 - accuracy: 0.9262\n",
            "Epoch 28/50\n",
            "200/200 [==============================] - 4s 18ms/step - loss: 0.0217 - accuracy: 0.9927\n",
            "Epoch 29/50\n",
            "200/200 [==============================] - 5s 24ms/step - loss: 0.0059 - accuracy: 0.9982\n",
            "Epoch 30/50\n",
            "200/200 [==============================] - 4s 18ms/step - loss: 0.0169 - accuracy: 0.9940\n",
            "Epoch 31/50\n",
            "200/200 [==============================] - 3s 16ms/step - loss: 0.0196 - accuracy: 0.9941\n",
            "Epoch 32/50\n",
            "200/200 [==============================] - 4s 18ms/step - loss: 0.0014 - accuracy: 0.9996\n",
            "Epoch 33/50\n",
            "200/200 [==============================] - 5s 23ms/step - loss: 0.0068 - accuracy: 0.9974\n",
            "Epoch 34/50\n",
            "200/200 [==============================] - 4s 19ms/step - loss: 0.0061 - accuracy: 0.9975\n",
            "Epoch 35/50\n",
            "200/200 [==============================] - 3s 17ms/step - loss: 0.0207 - accuracy: 0.9920\n",
            "Epoch 36/50\n",
            "200/200 [==============================] - 4s 19ms/step - loss: 0.0381 - accuracy: 0.9858\n",
            "Epoch 37/50\n",
            "200/200 [==============================] - 4s 20ms/step - loss: 0.0571 - accuracy: 0.9840\n",
            "Epoch 38/50\n",
            "200/200 [==============================] - 4s 20ms/step - loss: 0.0078 - accuracy: 0.9980\n",
            "Epoch 39/50\n",
            "200/200 [==============================] - 3s 17ms/step - loss: 0.0016 - accuracy: 0.9995\n",
            "Epoch 40/50\n",
            "200/200 [==============================] - 4s 21ms/step - loss: 0.0044 - accuracy: 0.9983\n",
            "Epoch 41/50\n",
            "200/200 [==============================] - 4s 21ms/step - loss: 0.0011 - accuracy: 0.9998\n",
            "Epoch 42/50\n",
            "200/200 [==============================] - 5s 23ms/step - loss: 6.6983e-04 - accuracy: 0.9999\n",
            "Epoch 43/50\n",
            "200/200 [==============================] - 4s 18ms/step - loss: 8.2322e-04 - accuracy: 0.9997\n",
            "Epoch 44/50\n",
            "200/200 [==============================] - 5s 25ms/step - loss: 0.0036 - accuracy: 0.9983\n",
            "Epoch 45/50\n",
            "200/200 [==============================] - 3s 16ms/step - loss: 0.0043 - accuracy: 0.9991\n",
            "Epoch 46/50\n",
            "200/200 [==============================] - 3s 16ms/step - loss: 9.0819e-04 - accuracy: 0.9998\n",
            "Epoch 47/50\n",
            "200/200 [==============================] - 3s 16ms/step - loss: 0.0041 - accuracy: 0.9987\n",
            "Epoch 48/50\n",
            "200/200 [==============================] - 5s 23ms/step - loss: 0.0054 - accuracy: 0.9979\n",
            "Epoch 49/50\n",
            "200/200 [==============================] - 3s 16ms/step - loss: 0.0388 - accuracy: 0.9868\n",
            "Epoch 50/50\n",
            "200/200 [==============================] - 3s 17ms/step - loss: 0.0048 - accuracy: 0.9983\n",
            "313/313 [==============================] - 2s 4ms/step\n",
            "[[1.0000000e+00]\n",
            " [9.9853903e-01]\n",
            " [1.0000000e+00]\n",
            " ...\n",
            " [1.8951132e-04]\n",
            " [2.0641559e-04]\n",
            " [1.9308906e-04]]\n"
          ]
        }
      ]
    }
  ]
}